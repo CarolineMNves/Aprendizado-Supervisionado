{
 "cells": [
  {
   "cell_type": "code",
   "execution_count": 15,
   "metadata": {},
   "outputs": [],
   "source": [
    "import pandas as pd\n",
    "import numpy as np\n",
    "import matplotlib.pyplot as plt\n",
    "\n",
    "\n",
    "#lendo o arquivo \n",
    "url = \"https://raw.githubusercontent.com/tatianaesc/datascience/main/diabetes.csv\"\n",
    "\n",
    "diabetes = pd.read_csv(url, delimiter= ',')"
   ]
  },
  {
   "cell_type": "code",
   "execution_count": 16,
   "metadata": {},
   "outputs": [
    {
     "data": {
      "text/html": [
       "<div>\n",
       "<style scoped>\n",
       "    .dataframe tbody tr th:only-of-type {\n",
       "        vertical-align: middle;\n",
       "    }\n",
       "\n",
       "    .dataframe tbody tr th {\n",
       "        vertical-align: top;\n",
       "    }\n",
       "\n",
       "    .dataframe thead th {\n",
       "        text-align: right;\n",
       "    }\n",
       "</style>\n",
       "<table border=\"1\" class=\"dataframe\">\n",
       "  <thead>\n",
       "    <tr style=\"text-align: right;\">\n",
       "      <th></th>\n",
       "      <th>Pregnancies</th>\n",
       "      <th>Glucose</th>\n",
       "      <th>BloodPressure</th>\n",
       "      <th>SkinThickness</th>\n",
       "      <th>Insulin</th>\n",
       "      <th>BMI</th>\n",
       "      <th>DiabetesPedigreeFunction</th>\n",
       "      <th>Age</th>\n",
       "      <th>Outcome</th>\n",
       "    </tr>\n",
       "  </thead>\n",
       "  <tbody>\n",
       "    <tr>\n",
       "      <th>0</th>\n",
       "      <td>6</td>\n",
       "      <td>148</td>\n",
       "      <td>72</td>\n",
       "      <td>35</td>\n",
       "      <td>0</td>\n",
       "      <td>33.6</td>\n",
       "      <td>0.627</td>\n",
       "      <td>50</td>\n",
       "      <td>1</td>\n",
       "    </tr>\n",
       "    <tr>\n",
       "      <th>1</th>\n",
       "      <td>1</td>\n",
       "      <td>85</td>\n",
       "      <td>66</td>\n",
       "      <td>29</td>\n",
       "      <td>0</td>\n",
       "      <td>26.6</td>\n",
       "      <td>0.351</td>\n",
       "      <td>31</td>\n",
       "      <td>0</td>\n",
       "    </tr>\n",
       "    <tr>\n",
       "      <th>2</th>\n",
       "      <td>8</td>\n",
       "      <td>183</td>\n",
       "      <td>64</td>\n",
       "      <td>0</td>\n",
       "      <td>0</td>\n",
       "      <td>23.3</td>\n",
       "      <td>0.672</td>\n",
       "      <td>32</td>\n",
       "      <td>1</td>\n",
       "    </tr>\n",
       "    <tr>\n",
       "      <th>3</th>\n",
       "      <td>1</td>\n",
       "      <td>89</td>\n",
       "      <td>66</td>\n",
       "      <td>23</td>\n",
       "      <td>94</td>\n",
       "      <td>28.1</td>\n",
       "      <td>0.167</td>\n",
       "      <td>21</td>\n",
       "      <td>0</td>\n",
       "    </tr>\n",
       "    <tr>\n",
       "      <th>4</th>\n",
       "      <td>0</td>\n",
       "      <td>137</td>\n",
       "      <td>40</td>\n",
       "      <td>35</td>\n",
       "      <td>168</td>\n",
       "      <td>43.1</td>\n",
       "      <td>2.288</td>\n",
       "      <td>33</td>\n",
       "      <td>1</td>\n",
       "    </tr>\n",
       "  </tbody>\n",
       "</table>\n",
       "</div>"
      ],
      "text/plain": [
       "   Pregnancies  Glucose  BloodPressure  SkinThickness  Insulin   BMI   \n",
       "0            6      148             72             35        0  33.6  \\\n",
       "1            1       85             66             29        0  26.6   \n",
       "2            8      183             64              0        0  23.3   \n",
       "3            1       89             66             23       94  28.1   \n",
       "4            0      137             40             35      168  43.1   \n",
       "\n",
       "   DiabetesPedigreeFunction  Age  Outcome  \n",
       "0                     0.627   50        1  \n",
       "1                     0.351   31        0  \n",
       "2                     0.672   32        1  \n",
       "3                     0.167   21        0  \n",
       "4                     2.288   33        1  "
      ]
     },
     "execution_count": 16,
     "metadata": {},
     "output_type": "execute_result"
    }
   ],
   "source": [
    "diabetes.head()"
   ]
  },
  {
   "cell_type": "code",
   "execution_count": 17,
   "metadata": {},
   "outputs": [
    {
     "data": {
      "text/html": [
       "<div>\n",
       "<style scoped>\n",
       "    .dataframe tbody tr th:only-of-type {\n",
       "        vertical-align: middle;\n",
       "    }\n",
       "\n",
       "    .dataframe tbody tr th {\n",
       "        vertical-align: top;\n",
       "    }\n",
       "\n",
       "    .dataframe thead th {\n",
       "        text-align: right;\n",
       "    }\n",
       "</style>\n",
       "<table border=\"1\" class=\"dataframe\">\n",
       "  <thead>\n",
       "    <tr style=\"text-align: right;\">\n",
       "      <th></th>\n",
       "      <th>Pregnancies</th>\n",
       "      <th>Glucose</th>\n",
       "      <th>BloodPressure</th>\n",
       "      <th>SkinThickness</th>\n",
       "      <th>Insulin</th>\n",
       "      <th>BMI</th>\n",
       "      <th>DiabetesPedigreeFunction</th>\n",
       "      <th>Age</th>\n",
       "      <th>Outcome</th>\n",
       "    </tr>\n",
       "  </thead>\n",
       "  <tbody>\n",
       "    <tr>\n",
       "      <th>count</th>\n",
       "      <td>768.000000</td>\n",
       "      <td>768.000000</td>\n",
       "      <td>768.000000</td>\n",
       "      <td>768.000000</td>\n",
       "      <td>768.000000</td>\n",
       "      <td>768.000000</td>\n",
       "      <td>768.000000</td>\n",
       "      <td>768.000000</td>\n",
       "      <td>768.000000</td>\n",
       "    </tr>\n",
       "    <tr>\n",
       "      <th>mean</th>\n",
       "      <td>3.845052</td>\n",
       "      <td>120.894531</td>\n",
       "      <td>69.105469</td>\n",
       "      <td>20.536458</td>\n",
       "      <td>79.799479</td>\n",
       "      <td>31.992578</td>\n",
       "      <td>0.471876</td>\n",
       "      <td>33.240885</td>\n",
       "      <td>0.348958</td>\n",
       "    </tr>\n",
       "    <tr>\n",
       "      <th>std</th>\n",
       "      <td>3.369578</td>\n",
       "      <td>31.972618</td>\n",
       "      <td>19.355807</td>\n",
       "      <td>15.952218</td>\n",
       "      <td>115.244002</td>\n",
       "      <td>7.884160</td>\n",
       "      <td>0.331329</td>\n",
       "      <td>11.760232</td>\n",
       "      <td>0.476951</td>\n",
       "    </tr>\n",
       "    <tr>\n",
       "      <th>min</th>\n",
       "      <td>0.000000</td>\n",
       "      <td>0.000000</td>\n",
       "      <td>0.000000</td>\n",
       "      <td>0.000000</td>\n",
       "      <td>0.000000</td>\n",
       "      <td>0.000000</td>\n",
       "      <td>0.078000</td>\n",
       "      <td>21.000000</td>\n",
       "      <td>0.000000</td>\n",
       "    </tr>\n",
       "    <tr>\n",
       "      <th>25%</th>\n",
       "      <td>1.000000</td>\n",
       "      <td>99.000000</td>\n",
       "      <td>62.000000</td>\n",
       "      <td>0.000000</td>\n",
       "      <td>0.000000</td>\n",
       "      <td>27.300000</td>\n",
       "      <td>0.243750</td>\n",
       "      <td>24.000000</td>\n",
       "      <td>0.000000</td>\n",
       "    </tr>\n",
       "    <tr>\n",
       "      <th>50%</th>\n",
       "      <td>3.000000</td>\n",
       "      <td>117.000000</td>\n",
       "      <td>72.000000</td>\n",
       "      <td>23.000000</td>\n",
       "      <td>30.500000</td>\n",
       "      <td>32.000000</td>\n",
       "      <td>0.372500</td>\n",
       "      <td>29.000000</td>\n",
       "      <td>0.000000</td>\n",
       "    </tr>\n",
       "    <tr>\n",
       "      <th>75%</th>\n",
       "      <td>6.000000</td>\n",
       "      <td>140.250000</td>\n",
       "      <td>80.000000</td>\n",
       "      <td>32.000000</td>\n",
       "      <td>127.250000</td>\n",
       "      <td>36.600000</td>\n",
       "      <td>0.626250</td>\n",
       "      <td>41.000000</td>\n",
       "      <td>1.000000</td>\n",
       "    </tr>\n",
       "    <tr>\n",
       "      <th>max</th>\n",
       "      <td>17.000000</td>\n",
       "      <td>199.000000</td>\n",
       "      <td>122.000000</td>\n",
       "      <td>99.000000</td>\n",
       "      <td>846.000000</td>\n",
       "      <td>67.100000</td>\n",
       "      <td>2.420000</td>\n",
       "      <td>81.000000</td>\n",
       "      <td>1.000000</td>\n",
       "    </tr>\n",
       "  </tbody>\n",
       "</table>\n",
       "</div>"
      ],
      "text/plain": [
       "       Pregnancies     Glucose  BloodPressure  SkinThickness     Insulin   \n",
       "count   768.000000  768.000000     768.000000     768.000000  768.000000  \\\n",
       "mean      3.845052  120.894531      69.105469      20.536458   79.799479   \n",
       "std       3.369578   31.972618      19.355807      15.952218  115.244002   \n",
       "min       0.000000    0.000000       0.000000       0.000000    0.000000   \n",
       "25%       1.000000   99.000000      62.000000       0.000000    0.000000   \n",
       "50%       3.000000  117.000000      72.000000      23.000000   30.500000   \n",
       "75%       6.000000  140.250000      80.000000      32.000000  127.250000   \n",
       "max      17.000000  199.000000     122.000000      99.000000  846.000000   \n",
       "\n",
       "              BMI  DiabetesPedigreeFunction         Age     Outcome  \n",
       "count  768.000000                768.000000  768.000000  768.000000  \n",
       "mean    31.992578                  0.471876   33.240885    0.348958  \n",
       "std      7.884160                  0.331329   11.760232    0.476951  \n",
       "min      0.000000                  0.078000   21.000000    0.000000  \n",
       "25%     27.300000                  0.243750   24.000000    0.000000  \n",
       "50%     32.000000                  0.372500   29.000000    0.000000  \n",
       "75%     36.600000                  0.626250   41.000000    1.000000  \n",
       "max     67.100000                  2.420000   81.000000    1.000000  "
      ]
     },
     "execution_count": 17,
     "metadata": {},
     "output_type": "execute_result"
    }
   ],
   "source": [
    "diabetes.describe()"
   ]
  },
  {
   "cell_type": "code",
   "execution_count": 18,
   "metadata": {},
   "outputs": [
    {
     "name": "stdout",
     "output_type": "stream",
     "text": [
      "<class 'pandas.core.frame.DataFrame'>\n",
      "RangeIndex: 768 entries, 0 to 767\n",
      "Data columns (total 9 columns):\n",
      " #   Column                    Non-Null Count  Dtype  \n",
      "---  ------                    --------------  -----  \n",
      " 0   Pregnancies               768 non-null    int64  \n",
      " 1   Glucose                   768 non-null    int64  \n",
      " 2   BloodPressure             768 non-null    int64  \n",
      " 3   SkinThickness             768 non-null    int64  \n",
      " 4   Insulin                   768 non-null    int64  \n",
      " 5   BMI                       768 non-null    float64\n",
      " 6   DiabetesPedigreeFunction  768 non-null    float64\n",
      " 7   Age                       768 non-null    int64  \n",
      " 8   Outcome                   768 non-null    int64  \n",
      "dtypes: float64(2), int64(7)\n",
      "memory usage: 54.1 KB\n"
     ]
    }
   ],
   "source": [
    "diabetes.info()"
   ]
  },
  {
   "cell_type": "code",
   "execution_count": 19,
   "metadata": {},
   "outputs": [
    {
     "name": "stdout",
     "output_type": "stream",
     "text": [
      "Pregnancies                 0\n",
      "Glucose                     0\n",
      "BloodPressure               0\n",
      "SkinThickness               0\n",
      "Insulin                     0\n",
      "BMI                         0\n",
      "DiabetesPedigreeFunction    0\n",
      "Age                         0\n",
      "Outcome                     0\n",
      "dtype: int64\n"
     ]
    }
   ],
   "source": [
    "print(diabetes.isnull().sum())"
   ]
  },
  {
   "cell_type": "code",
   "execution_count": 20,
   "metadata": {},
   "outputs": [],
   "source": [
    "#removendo possíveis dados duplicados\n",
    "\n",
    "diabetes = diabetes.drop_duplicates()"
   ]
  },
  {
   "cell_type": "code",
   "execution_count": 21,
   "metadata": {},
   "outputs": [
    {
     "name": "stdout",
     "output_type": "stream",
     "text": [
      "<class 'pandas.core.frame.DataFrame'>\n",
      "RangeIndex: 768 entries, 0 to 767\n",
      "Data columns (total 9 columns):\n",
      " #   Column                    Non-Null Count  Dtype  \n",
      "---  ------                    --------------  -----  \n",
      " 0   Pregnancies               768 non-null    int64  \n",
      " 1   Glucose                   768 non-null    int64  \n",
      " 2   BloodPressure             768 non-null    int64  \n",
      " 3   SkinThickness             768 non-null    int64  \n",
      " 4   Insulin                   768 non-null    int64  \n",
      " 5   BMI                       768 non-null    float64\n",
      " 6   DiabetesPedigreeFunction  768 non-null    float64\n",
      " 7   Age                       768 non-null    int64  \n",
      " 8   Outcome                   768 non-null    int64  \n",
      "dtypes: float64(2), int64(7)\n",
      "memory usage: 54.1 KB\n"
     ]
    }
   ],
   "source": [
    "diabetes.info()"
   ]
  },
  {
   "cell_type": "code",
   "execution_count": 22,
   "metadata": {},
   "outputs": [
    {
     "data": {
      "image/png": "[encoded data removed]",
      "text/plain": [
       "<Figure size 640x480 with 1 Axes>"
      ]
     },
     "metadata": {},
     "output_type": "display_data"
    }
   ],
   "source": [
    "#observando a relação entre a idade e o resultado do teste\n",
    "\n",
    "#lista de casos positivos e negativos\n",
    "positive_cases = diabetes[diabetes[\"Outcome\"] == 1]\n",
    "negative_cases = diabetes[diabetes[\"Outcome\"] == 0]\n",
    "\n",
    "#contagem dos casos positivos e negativos por idade\n",
    "positive_counts = positive_cases[\"Age\"].value_counts().sort_index()\n",
    "negative_counts = negative_cases[\"Age\"].value_counts().sort_index()\n",
    "\n",
    "\n",
    "#plotando o gráfico\n",
    "plt.scatter(positive_counts.index, positive_counts.values, c='blue', label=\"Casos Positivos\")\n",
    "plt.scatter(negative_counts.index, negative_counts.values, c='red', label=\"Casos Negativos\")\n",
    "plt.title(\"Relação entre Idade e Incidência de Diabetes\")\n",
    "plt.xlabel(\"Idade\")\n",
    "plt.ylabel(\"Contagem de Casos\")\n",
    "plt.show()"
   ]
  },
  {
   "attachments": {},
   "cell_type": "markdown",
   "metadata": {},
   "source": [
    "Vamos treinar modelos com o objetivo de encontrar o mais adequado para prever se um paciente terá ou não diabetes, com base nas medidas de diagnóstico presentes no conjunto de dados."
   ]
  },
  {
   "cell_type": "code",
   "execution_count": 23,
   "metadata": {},
   "outputs": [],
   "source": [
    "#configuração para não exibir warnings\n",
    "import warnings\n",
    "warnings.filterwarnings(\"ignore\")\n",
    "\n",
    "#importando bibliotecas necessárias\n",
    "\n",
    "from sklearn.preprocessing import StandardScaler\n",
    "from sklearn.preprocessing import MinMaxScaler\n",
    "from sklearn.model_selection import train_test_split\n",
    "from sklearn.model_selection import KFold\n",
    "from sklearn.model_selection import StratifiedKFold\n",
    "from sklearn.model_selection import cross_val_score\n",
    "from sklearn.model_selection import GridSearchCV\n",
    "from sklearn.metrics import accuracy_score\n",
    "from sklearn.pipeline import Pipeline\n",
    "from sklearn.linear_model import LogisticRegression\n",
    "from sklearn.tree import DecisionTreeClassifier\n",
    "from sklearn.neighbors import KNeighborsClassifier\n",
    "from sklearn.naive_bayes import GaussianNB\n",
    "from sklearn.svm import SVC\n",
    "from sklearn.ensemble import BaggingClassifier\n",
    "from sklearn.ensemble import RandomForestClassifier\n",
    "from sklearn.ensemble import ExtraTreesClassifier\n",
    "from sklearn.ensemble import VotingClassifier\n",
    "from sklearn.ensemble import AdaBoostClassifier\n",
    "from sklearn.ensemble import GradientBoostingClassifier"
   ]
  },
  {
   "cell_type": "code",
   "execution_count": 24,
   "metadata": {},
   "outputs": [],
   "source": [
    "#tamanho do conjunto de teste\n",
    "test_size = 0.20"
   ]
  },
  {
   "cell_type": "code",
   "execution_count": 25,
   "metadata": {},
   "outputs": [],
   "source": [
    "#semente aleatória\n",
    "seed = 13"
   ]
  },
  {
   "cell_type": "code",
   "execution_count": 26,
   "metadata": {},
   "outputs": [],
   "source": [
    "#separação dos conjuntos de treino e teste\n",
    "array = diabetes.values\n",
    "\n",
    "X = array[:,0:8]\n",
    "y = array[:,8]"
   ]
  },
  {
   "cell_type": "code",
   "execution_count": 27,
   "metadata": {},
   "outputs": [],
   "source": [
    "#holdout com estratificação\n",
    "X_train, X_test, y_train, y_test = train_test_split(X, y, test_size= test_size, shuffle= True, random_state= seed, stratify= y)"
   ]
  },
  {
   "cell_type": "code",
   "execution_count": 28,
   "metadata": {},
   "outputs": [],
   "source": [
    "#parâmetros e partições da validação cruzada\n",
    "scoring = \"accuracy\"\n",
    "\n",
    "num_particoes = 10\n"
   ]
  },
  {
   "cell_type": "code",
   "execution_count": 29,
   "metadata": {},
   "outputs": [],
   "source": [
    "#validação cruzada com estratificação\n",
    "kfold = StratifiedKFold(n_splits= num_particoes, shuffle= True, random_state= seed)"
   ]
  },
  {
   "attachments": {},
   "cell_type": "markdown",
   "metadata": {},
   "source": [
    "Modelagem e inferência: vamos treinar e avaliar os modelos usando a métrica de acurácia"
   ]
  },
  {
   "cell_type": "code",
   "execution_count": 30,
   "metadata": {},
   "outputs": [],
   "source": [
    "#definindo uma semente global\n",
    "np.random.seed(13)"
   ]
  },
  {
   "cell_type": "code",
   "execution_count": 31,
   "metadata": {},
   "outputs": [],
   "source": [
    "#lista vazia para armazenar os modelos\n",
    "modelos = []"
   ]
  },
  {
   "cell_type": "code",
   "execution_count": 32,
   "metadata": {},
   "outputs": [],
   "source": [
    "#criando os modelos e armazenandoos na lista de modelos\n",
    "\n",
    "modelos.append(('LR', LogisticRegression(max_iter= 200)))\n",
    "modelos.append(('KNN', KNeighborsClassifier()))\n",
    "modelos.append(('CART', DecisionTreeClassifier()))\n",
    "modelos.append(('NB', GaussianNB()))\n",
    "modelos.append(('SVM', SVC()))"
   ]
  },
  {
   "cell_type": "code",
   "execution_count": 33,
   "metadata": {},
   "outputs": [],
   "source": [
    "#definindo os parâmetros do classficador base para o BaggingClassifier\n",
    "base = DecisionTreeClassifier()\n",
    "num_trees = 100\n",
    "max_features = 3"
   ]
  },
  {
   "cell_type": "code",
   "execution_count": 34,
   "metadata": {},
   "outputs": [],
   "source": [
    "#criando os modelos para o VotingClassifier\n",
    "bases =[]\n",
    "\n",
    "#modelo 1\n",
    "modelo1 = LogisticRegression(max_iter= 200)\n",
    "bases.append((\"Logistic\", modelo1))\n",
    "\n",
    "#modelo2\n",
    "modelo2 = DecisionTreeClassifier()\n",
    "bases.append((\"Cart\", modelo2))\n",
    "\n",
    "#modelo 3 \n",
    "modelo3 = SVC()\n",
    "bases.append(('SMV', modelo3))"
   ]
  },
  {
   "cell_type": "code",
   "execution_count": 35,
   "metadata": {},
   "outputs": [],
   "source": [
    "#criando os ensembles e adicionando-os na lista de modelos \n",
    "\n",
    "modelos.append(('Bagging', BaggingClassifier(base_estimator= base, n_estimators= num_trees)))\n",
    "modelos.append((\"RF\", RandomForestClassifier(n_estimators= num_trees, max_features= max_features)))\n",
    "modelos.append(('ET', ExtraTreesClassifier(n_estimators= num_trees, max_features= max_features)))\n",
    "modelos.append(('Ada', AdaBoostClassifier(n_estimators= num_trees)))\n",
    "modelos.append(('GB', GradientBoostingClassifier(n_estimators= num_trees)))\n",
    "modelos.append(('Voting', VotingClassifier(bases)))"
   ]
  },
  {
   "cell_type": "code",
   "execution_count": 36,
   "metadata": {},
   "outputs": [],
   "source": [
    "#listas de armazenamento de resultados\n",
    "results= []\n",
    "names= []"
   ]
  },
  {
   "cell_type": "code",
   "execution_count": 37,
   "metadata": {},
   "outputs": [
    {
     "name": "stdout",
     "output_type": "stream",
     "text": [
      ":LR: 0.770360 (0.034496)\n",
      ":KNN: 0.724855 (0.026419)\n",
      ":CART: 0.695690 (0.039220)\n",
      ":NB: 0.752406 (0.033468)\n",
      ":SVM: 0.755764 (0.045831)\n",
      ":Bagging: 0.759149 (0.053176)\n",
      ":RF: 0.768905 (0.041341)\n",
      ":ET: 0.773744 (0.032083)\n",
      ":Ada: 0.755685 (0.031746)\n",
      ":GB: 0.744421 (0.041078)\n",
      ":Voting: 0.771999 (0.043663)\n"
     ]
    }
   ],
   "source": [
    "#avaliando os modelos\n",
    "\n",
    "for name, model in modelos:\n",
    "    cv_results = cross_val_score(model, X_train, y_train, cv= kfold, scoring= scoring)\n",
    "    results.append(cv_results)\n",
    "    names.append(name)\n",
    "    msg = \":%s: %f (%f)\" % (name, cv_results.mean(), cv_results.std())\n",
    "    print(msg)"
   ]
  },
  {
   "cell_type": "code",
   "execution_count": 38,
   "metadata": {},
   "outputs": [
    {
     "data": {
      "image/png": "[encoded data removed]",
      "text/plain": [
       "<Figure size 1500x1000 with 1 Axes>"
      ]
     },
     "metadata": {},
     "output_type": "display_data"
    }
   ],
   "source": [
    "#plotando boxplot para comparação dos modelos\n",
    "\n",
    "fig = plt.figure(figsize= (15, 10))\n",
    "fig.suptitle(\"Comparação dos modelos\")\n",
    "ax = fig.add_subplot(111)\n",
    "plt.boxplot(results)\n",
    "ax.set_xticklabels(names)\n",
    "plt.show()"
   ]
  },
  {
   "attachments": {},
   "cell_type": "markdown",
   "metadata": {},
   "source": [
    "Vamos repetir o processo, utilizando a biblioteca Pipeline, para criar e avaliar os modelos atraves da validação cruzada com os dados padronizados e normalizados, a fim de evitar o data leakage. Por fim, vamos compara os resultados com os modelos treinados com o dataset original"
   ]
  },
  {
   "cell_type": "code",
   "execution_count": 39,
   "metadata": {},
   "outputs": [],
   "source": [
    "#definindo uma semente global para o bloco\n",
    "np.random.seed(13)"
   ]
  },
  {
   "cell_type": "code",
   "execution_count": 40,
   "metadata": {},
   "outputs": [],
   "source": [
    "#listas para o armazenamento dos pipelines e dos resultados para toas as visões do dataset \n",
    "\n",
    "pipelines= []\n",
    "results= []\n",
    "names= []"
   ]
  },
  {
   "attachments": {},
   "cell_type": "markdown",
   "metadata": {},
   "source": [
    "Vamos criar os elementos do pipeline"
   ]
  },
  {
   "cell_type": "code",
   "execution_count": 41,
   "metadata": {},
   "outputs": [],
   "source": [
    "#Algoritmos que vamos utilizar\n",
    "\n",
    "reg_log = ('Lr', LogisticRegression(max_iter= 200))\n",
    "knn = (\"KNN\", KNeighborsClassifier())\n",
    "cart = (\"CART\", DecisionTreeClassifier())\n",
    "naive_bayes = (\"NB\", GaussianNB())\n",
    "svm = (\"SVM\", SVC())\n",
    "bagging = (\"Bag\", BaggingClassifier(base_estimator= base, n_estimators= num_trees))\n",
    "random_forest = (\"RF\", RandomForestClassifier(n_estimators= num_trees, max_features= max_features))\n",
    "extra_trees = (\"ET\", ExtraTreesClassifier(n_estimators= num_trees, max_features= max_features))\n",
    "adaboost = ('Ada', AdaBoostClassifier(n_estimators= num_trees))\n",
    "gradient_boosting = ('GB', GradientBoostingClassifier(n_estimators= num_trees))\n",
    "voting = (\"Voting\", VotingClassifier(bases))"
   ]
  },
  {
   "cell_type": "code",
   "execution_count": 42,
   "metadata": {},
   "outputs": [],
   "source": [
    "#transformações que serão utilizadas\n",
    "standard_scaler = ('StandardScaler', StandardScaler())\n",
    "min_max_scaler = (\"MinMaxScaler\", MinMaxScaler())"
   ]
  },
  {
   "attachments": {},
   "cell_type": "markdown",
   "metadata": {},
   "source": [
    "Montando os Pipelines"
   ]
  },
  {
   "cell_type": "code",
   "execution_count": 43,
   "metadata": {},
   "outputs": [],
   "source": [
    "#dataset original\n",
    "\n",
    "pipelines.append(('LR-orig', Pipeline([reg_log])))\n",
    "pipelines.append((\"KNN-orig\", Pipeline([knn])))\n",
    "pipelines.append(('Cart-orig', Pipeline([cart])))\n",
    "pipelines.append(('NB-orig', Pipeline([naive_bayes])))\n",
    "pipelines.append(('SVM-orig', Pipeline([svm])))\n",
    "pipelines.append((\"Bag-orig\", Pipeline([bagging])))\n",
    "pipelines.append((\"RF-orig\", Pipeline([random_forest])))\n",
    "pipelines.append((\"ET-orig\", Pipeline([extra_trees])))\n",
    "pipelines.append(('Ada-orig', Pipeline([adaboost])))\n",
    "pipelines.append((\"GB-orig\", Pipeline([gradient_boosting])))\n",
    "pipelines.append((\"Voting-orig\", Pipeline([voting])))"
   ]
  },
  {
   "cell_type": "code",
   "execution_count": 44,
   "metadata": {},
   "outputs": [],
   "source": [
    "#dataset padrozinado\n",
    "\n",
    "pipelines.append(('LR-orig', Pipeline([standard_scaler, reg_log])))\n",
    "pipelines.append((\"KNN-orig\", Pipeline([standard_scaler, knn])))\n",
    "pipelines.append(('Cart-orig', Pipeline([standard_scaler, cart])))\n",
    "pipelines.append(('NB-orig', Pipeline([standard_scaler, naive_bayes])))\n",
    "pipelines.append(('SVM-orig', Pipeline([standard_scaler, svm])))\n",
    "pipelines.append((\"Bag-orig\", Pipeline([standard_scaler, bagging])))\n",
    "pipelines.append((\"RF-orig\", Pipeline([standard_scaler, random_forest])))\n",
    "pipelines.append((\"ET-orig\", Pipeline([standard_scaler, extra_trees])))\n",
    "pipelines.append(('Ada-orig', Pipeline([standard_scaler, adaboost])))\n",
    "pipelines.append((\"GB-orig\", Pipeline([standard_scaler, gradient_boosting])))\n",
    "pipelines.append((\"Voting-orig\", Pipeline([standard_scaler, voting])))"
   ]
  },
  {
   "cell_type": "code",
   "execution_count": 45,
   "metadata": {},
   "outputs": [],
   "source": [
    "#dataset normalizado\n",
    "\n",
    "pipelines.append(('LR-orig', Pipeline([min_max_scaler, reg_log])))\n",
    "pipelines.append((\"KNN-orig\", Pipeline([min_max_scaler, knn])))\n",
    "pipelines.append(('Cart-orig', Pipeline([min_max_scaler, cart])))\n",
    "pipelines.append(('NB-orig', Pipeline([min_max_scaler, naive_bayes])))\n",
    "pipelines.append(('SVM-orig', Pipeline([min_max_scaler, svm])))\n",
    "pipelines.append((\"Bag-orig\", Pipeline([min_max_scaler, bagging])))\n",
    "pipelines.append((\"RF-orig\", Pipeline([min_max_scaler, random_forest])))\n",
    "pipelines.append((\"ET-orig\", Pipeline([min_max_scaler, extra_trees])))\n",
    "pipelines.append(('Ada-orig', Pipeline([min_max_scaler, adaboost])))\n",
    "pipelines.append((\"GB-orig\", Pipeline([min_max_scaler, gradient_boosting])))\n",
    "pipelines.append((\"Voting-orig\", Pipeline([min_max_scaler, voting])))"
   ]
  },
  {
   "cell_type": "code",
   "execution_count": 46,
   "metadata": {},
   "outputs": [
    {
     "name": "stdout",
     "output_type": "stream",
     "text": [
      "LR-orig: 0.770 (0.034)\n",
      "KNN-orig: 0.725 (0.026)\n",
      "Cart-orig: 0.696 (0.039)\n",
      "NB-orig: 0.752 (0.033)\n",
      "SVM-orig: 0.756 (0.046)\n",
      "Bag-orig: 0.759 (0.053)\n",
      "RF-orig: 0.769 (0.041)\n",
      "ET-orig: 0.774 (0.032)\n",
      "Ada-orig: 0.756 (0.032)\n",
      "GB-orig: 0.744 (0.041)\n",
      "Voting-orig: 0.772 (0.044)\n",
      "LR-orig: 0.770 (0.033)\n",
      "KNN-orig: 0.733 (0.033)\n",
      "Cart-orig: 0.682 (0.035)\n",
      "NB-orig: 0.752 (0.033)\n",
      "SVM-orig: 0.769 (0.029)\n",
      "Bag-orig: 0.751 (0.044)\n",
      "RF-orig: 0.766 (0.047)\n",
      "ET-orig: 0.785 (0.030)\n",
      "Ada-orig: 0.754 (0.033)\n",
      "GB-orig: 0.743 (0.040)\n",
      "Voting-orig: 0.770 (0.033)\n",
      "LR-orig: 0.769 (0.038)\n",
      "KNN-orig: 0.725 (0.042)\n",
      "Cart-orig: 0.692 (0.035)\n",
      "NB-orig: 0.752 (0.033)\n",
      "SVM-orig: 0.777 (0.030)\n",
      "Bag-orig: 0.740 (0.045)\n",
      "RF-orig: 0.771 (0.048)\n",
      "ET-orig: 0.777 (0.035)\n",
      "Ada-orig: 0.756 (0.032)\n",
      "GB-orig: 0.744 (0.047)\n",
      "Voting-orig: 0.770 (0.031)\n"
     ]
    }
   ],
   "source": [
    "#executando os pipelines\n",
    "\n",
    "for name, model in pipelines:\n",
    "    cv_results = cross_val_score(model, X_train, y_train, cv= kfold, scoring= scoring)\n",
    "    results.append(cv_results)\n",
    "    names.append(name)\n",
    "    msg = \"%s: %.3f (%.3f)\" % (name, cv_results.mean(), cv_results.std())\n",
    "    print(msg)"
   ]
  },
  {
   "cell_type": "code",
   "execution_count": 47,
   "metadata": {},
   "outputs": [
    {
     "data": {
      "image/png": "[encoded data removed]",
      "text/plain": [
       "<Figure size 2500x600 with 1 Axes>"
      ]
     },
     "metadata": {},
     "output_type": "display_data"
    }
   ],
   "source": [
    "#plotando boxplot para comparação dos modelos\n",
    "\n",
    "fig = plt.figure(figsize= (25, 6))\n",
    "fig.suptitle('Comparação dos modelos: Dataset original, padronizado e normalizado')\n",
    "ax = fig.add_subplot(111)\n",
    "plt.boxplot(results)\n",
    "ax.set_xticklabels(names, rotation = 90)\n",
    "plt.show()"
   ]
  }
 ],
 "metadata": {
  "kernelspec": {
   "display_name": "Python 3",
   "language": "python",
   "name": "python3"
  },
  "language_info": {
   "codemirror_mode": {
    "name": "ipython",
    "version": 3
   },
   "file_extension": ".py",
   "mimetype": "text/x-python",
   "name": "python",
   "nbconvert_exporter": "python",
   "pygments_lexer": "ipython3",
   "version": "3.11.3"
  },
  "orig_nbformat": 4
 },
 "nbformat": 4,
 "nbformat_minor": 2
}
